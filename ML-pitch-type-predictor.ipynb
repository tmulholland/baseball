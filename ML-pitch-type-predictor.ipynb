{
 "cells": [
  {
   "cell_type": "code",
   "execution_count": 84,
   "metadata": {},
   "outputs": [],
   "source": [
    "from analyzer import PITCHfx, GameLogs, PlayerMap, EventInfo, Parks\n",
    "import seaborn as sns\n",
    "import datetime as dt\n",
    "import pandas as pd\n",
    "import numpy as np\n",
    "\n",
    "import h2o\n",
    "from h2o.estimators.glm import H2OGeneralizedLinearEstimator\n",
    "from h2o.estimators.gbm import H2OGradientBoostingEstimator\n",
    "from h2o.estimators.random_forest import H2ORandomForestEstimator\n",
    "from h2o.estimators.deeplearning import H2ODeepLearningEstimator\n",
    "from h2o.grid.grid_search import H2OGridSearch\n",
    "\n",
    "\n",
    "import matplotlib.pyplot as plt\n",
    "%matplotlib inline"
   ]
  },
  {
   "cell_type": "code",
   "execution_count": 3,
   "metadata": {},
   "outputs": [
    {
     "name": "stdout",
     "output_type": "stream",
     "text": [
      "Checking whether there is an H2O instance running at http://localhost:54321..... not found.\n",
      "Attempting to start a local H2O server...\n",
      "  Java Version: java version \"1.8.0_171\"; Java(TM) SE Runtime Environment (build 1.8.0_171-b11); Java HotSpot(TM) 64-Bit Server VM (build 25.171-b11, mixed mode)\n",
      "  Starting server from /usr/local/lib/python2.7/dist-packages/h2o/backend/bin/h2o.jar\n",
      "  Ice root: /tmp/tmp74LnM0\n",
      "  JVM stdout: /tmp/tmp74LnM0/h2o_ww_started_from_python.out\n",
      "  JVM stderr: /tmp/tmp74LnM0/h2o_ww_started_from_python.err\n",
      "  Server is running at http://127.0.0.1:54321\n",
      "Connecting to H2O server at http://127.0.0.1:54321... successful.\n"
     ]
    },
    {
     "data": {
      "text/html": [
       "<div style=\"overflow:auto\"><table style=\"width:50%\"><tr><td>H2O cluster uptime:</td>\n",
       "<td>04 secs</td></tr>\n",
       "<tr><td>H2O cluster timezone:</td>\n",
       "<td>America/Denver</td></tr>\n",
       "<tr><td>H2O data parsing timezone:</td>\n",
       "<td>UTC</td></tr>\n",
       "<tr><td>H2O cluster version:</td>\n",
       "<td>3.20.0.5</td></tr>\n",
       "<tr><td>H2O cluster version age:</td>\n",
       "<td>10 days </td></tr>\n",
       "<tr><td>H2O cluster name:</td>\n",
       "<td>H2O_from_python_ww_tc63zl</td></tr>\n",
       "<tr><td>H2O cluster total nodes:</td>\n",
       "<td>1</td></tr>\n",
       "<tr><td>H2O cluster free memory:</td>\n",
       "<td>3.833 Gb</td></tr>\n",
       "<tr><td>H2O cluster total cores:</td>\n",
       "<td>4</td></tr>\n",
       "<tr><td>H2O cluster allowed cores:</td>\n",
       "<td>4</td></tr>\n",
       "<tr><td>H2O cluster status:</td>\n",
       "<td>accepting new members, healthy</td></tr>\n",
       "<tr><td>H2O connection url:</td>\n",
       "<td>http://127.0.0.1:54321</td></tr>\n",
       "<tr><td>H2O connection proxy:</td>\n",
       "<td>None</td></tr>\n",
       "<tr><td>H2O internal security:</td>\n",
       "<td>False</td></tr>\n",
       "<tr><td>H2O API Extensions:</td>\n",
       "<td>XGBoost, Algos, AutoML, Core V3, Core V4</td></tr>\n",
       "<tr><td>Python version:</td>\n",
       "<td>2.7.14 final</td></tr></table></div>"
      ],
      "text/plain": [
       "--------------------------  ----------------------------------------\n",
       "H2O cluster uptime:         04 secs\n",
       "H2O cluster timezone:       America/Denver\n",
       "H2O data parsing timezone:  UTC\n",
       "H2O cluster version:        3.20.0.5\n",
       "H2O cluster version age:    10 days\n",
       "H2O cluster name:           H2O_from_python_ww_tc63zl\n",
       "H2O cluster total nodes:    1\n",
       "H2O cluster free memory:    3.833 Gb\n",
       "H2O cluster total cores:    4\n",
       "H2O cluster allowed cores:  4\n",
       "H2O cluster status:         accepting new members, healthy\n",
       "H2O connection url:         http://127.0.0.1:54321\n",
       "H2O connection proxy:\n",
       "H2O internal security:      False\n",
       "H2O API Extensions:         XGBoost, Algos, AutoML, Core V3, Core V4\n",
       "Python version:             2.7.14 final\n",
       "--------------------------  ----------------------------------------"
      ]
     },
     "metadata": {},
     "output_type": "display_data"
    }
   ],
   "source": [
    "h2o.init(min_mem_size='4G')"
   ]
  },
  {
   "cell_type": "code",
   "execution_count": 4,
   "metadata": {},
   "outputs": [],
   "source": [
    "def get_season(year, pitcher):\n",
    "    ## combine PITCHfx and GameLogs for ease of analysis\n",
    "    pfx = PITCHfx(year)+GameLogs(year)+EventInfo(year)+Parks()\n",
    "\n",
    "    ## get name maps and merge with dataframe\n",
    "    PM = PlayerMap()\n",
    "    pfx.df['mlb_id'] = pfx.df['pitcher']\n",
    "    PM.slim_frame(['mlb_id','retro_id','retro_name'])\n",
    "    pfx = pfx+PM\n",
    "\n",
    "    ## filter on pitcher retro id\n",
    "    pfx.filter_by_pitchers(pitcher)\n",
    "    return pfx"
   ]
  },
  {
   "cell_type": "code",
   "execution_count": 5,
   "metadata": {},
   "outputs": [],
   "source": [
    "year=2017\n",
    "pitchers=['lestj001','quinj001','montm002']\n",
    "#pfx = sum([get_season(year, pitcher) for pitcher in pitchers])\n",
    "pfx = get_season(year, pitchers)"
   ]
  },
  {
   "cell_type": "code",
   "execution_count": 6,
   "metadata": {},
   "outputs": [
    {
     "name": "stderr",
     "output_type": "stream",
     "text": [
      "/usr/local/lib/python2.7/dist-packages/h2o/utils/shared_utils.py:177: FutureWarning: Method .as_matrix will be removed in a future version. Use .values instead.\n",
      "  data = _handle_python_lists(python_obj.as_matrix().tolist(), -1)[1]\n"
     ]
    },
    {
     "name": "stdout",
     "output_type": "stream",
     "text": [
      "Parse progress: |█████████████████████████████████████████████████████████| 100%\n"
     ]
    }
   ],
   "source": [
    "pfx.df = pfx.df[(pfx.df.pitch_type!='UN') & (pfx.df.pitch_type.notna())]\n",
    "hdf = h2o.H2OFrame(pfx.df)"
   ]
  },
  {
   "cell_type": "code",
   "execution_count": 7,
   "metadata": {},
   "outputs": [],
   "source": [
    "features = ['start_speed','spin_rate','spin_dir','pfx_z','break_angle','break_length','pitch_type','retro_id']\n",
    "train, valid, test = hdf.split_frame([0.7,0.2])"
   ]
  },
  {
   "cell_type": "code",
   "execution_count": 8,
   "metadata": {},
   "outputs": [
    {
     "name": "stdout",
     "output_type": "stream",
     "text": [
      "gbm Model Build progress: |███████████████████████████████████████████████| 100%\n"
     ]
    }
   ],
   "source": [
    "gbm = H2OGradientBoostingEstimator()\n",
    "gbm.train(x=features, y='pitch_type',training_frame=train, validation_frame=valid)"
   ]
  },
  {
   "cell_type": "code",
   "execution_count": null,
   "metadata": {},
   "outputs": [],
   "source": []
  },
  {
   "cell_type": "code",
   "execution_count": 9,
   "metadata": {},
   "outputs": [],
   "source": [
    "## hidden layers: 128x128 ; Rectifier activation\n",
    "Net_1 = H2ODeepLearningEstimator(epochs=100, hidden=[128,128], activation='RectifierWithDropout',\n",
    "                                 classification_stop=-1, stopping_rounds=0,\n",
    "                                 score_interval=0.25, score_each_iteration=True, score_validation_sampling='Uniform')\n",
    "## hidden layers: 512x512 ; Rectifier activation\n",
    "Net_2 = H2ODeepLearningEstimator(epochs=100, hidden=[512,512], activation='RectifierWithDropout',\n",
    "                                 classification_stop=-1, stopping_rounds=0,\n",
    "                                 score_interval=5, score_each_iteration=True, score_validation_sampling='Uniform')                                 \n",
    "## hidden layers: 32x128x32 ; Rectifier activation\n",
    "Net_3 = H2ODeepLearningEstimator(epochs=100, hidden=[64, 128, 64], activation='RectifierWithDropout',\n",
    "                                 classification_stop=-1, stopping_rounds=0,\n",
    "                                 score_interval=0.25, score_each_iteration=True, score_validation_sampling='Uniform') \n",
    "\n",
    "## hidden layers: 512x512x10 ; Rectifier activation\n",
    "Net_4 = H2ODeepLearningEstimator(epochs=100, hidden=[512,512,10], activation='RectifierWithDropout',\n",
    "                                 classification_stop=-1, stopping_rounds=0,\n",
    "                                 score_interval=10, score_each_iteration=True, score_validation_sampling='Uniform') \n",
    "\n",
    "## hidden layers: 10x512x512x5; Rectifier activation\n",
    "Net_5 = H2ODeepLearningEstimator(epochs=100, hidden=[10,512,512,5], activation='RectifierWithDropout',\n",
    "                                 classification_stop=-1, stopping_rounds=0,\n",
    "                                 score_interval=20, score_each_iteration=True, score_validation_sampling='Uniform') \n",
    "\n"
   ]
  },
  {
   "cell_type": "code",
   "execution_count": 27,
   "metadata": {},
   "outputs": [],
   "source": [
    "\n",
    "## hidden layers: 512x512x32x8; Rectifier activation\n",
    "Net_6 = H2ODeepLearningEstimator(epochs=100, hidden=[512,512,64,16], activation='RectifierWithDropout',\n",
    "                                 classification_stop=-1, stopping_rounds=0,\n",
    "                                 score_interval=20, score_each_iteration=True, score_validation_sampling='Uniform') \n",
    "\n"
   ]
  },
  {
   "cell_type": "code",
   "execution_count": 10,
   "metadata": {},
   "outputs": [
    {
     "name": "stdout",
     "output_type": "stream",
     "text": [
      "deeplearning Model Build progress: |██████████████████████████████████████| 100%\n",
      "deeplearning Model Build progress: |██████████████████████████████████████| 100%\n",
      "deeplearning Model Build progress: |██████████████████████████████████████| 100%\n",
      "deeplearning Model Build progress: |██████████████████████████████████████| 100%\n",
      "deeplearning Model Build progress: |██████████████████████████████████████| 100%\n"
     ]
    }
   ],
   "source": [
    "Net_1.train(x=features, y='pitch_type',training_frame=train, validation_frame=valid)\n",
    "Net_2.train(x=features, y='pitch_type',training_frame=train, validation_frame=valid)\n",
    "Net_3.train(x=features, y='pitch_type',training_frame=train, validation_frame=valid)\n",
    "Net_4.train(x=features, y='pitch_type',training_frame=train, validation_frame=valid)\n",
    "Net_5.train(x=features, y='pitch_type',training_frame=train, validation_frame=valid)"
   ]
  },
  {
   "cell_type": "code",
   "execution_count": 28,
   "metadata": {},
   "outputs": [
    {
     "name": "stdout",
     "output_type": "stream",
     "text": [
      "deeplearning Model Build progress: |██████████████████████████████████████| 100%\n"
     ]
    }
   ],
   "source": [
    "Net_6.train(x=features, y='pitch_type',training_frame=train, validation_frame=valid)"
   ]
  },
  {
   "cell_type": "code",
   "execution_count": 11,
   "metadata": {},
   "outputs": [
    {
     "name": "stdout",
     "output_type": "stream",
     "text": [
      "Confusion Matrix: Row labels: Actual class; Column labels: Predicted class\n",
      "\n"
     ]
    },
    {
     "data": {
      "text/html": [
       "<div style=\"overflow:auto\"><table style=\"width:50%\"><tr><td><b>CH</b></td>\n",
       "<td><b>CU</b></td>\n",
       "<td><b>FC</b></td>\n",
       "<td><b>FF</b></td>\n",
       "<td><b>SI</b></td>\n",
       "<td><b>Error</b></td>\n",
       "<td><b>Rate</b></td></tr>\n",
       "<tr><td>81.0</td>\n",
       "<td>0.0</td>\n",
       "<td>1.0</td>\n",
       "<td>1.0</td>\n",
       "<td>0.0</td>\n",
       "<td>0.0240964</td>\n",
       "<td>2 / 83</td></tr>\n",
       "<tr><td>0.0</td>\n",
       "<td>173.0</td>\n",
       "<td>0.0</td>\n",
       "<td>0.0</td>\n",
       "<td>0.0</td>\n",
       "<td>0.0</td>\n",
       "<td>0 / 173</td></tr>\n",
       "<tr><td>0.0</td>\n",
       "<td>0.0</td>\n",
       "<td>109.0</td>\n",
       "<td>10.0</td>\n",
       "<td>0.0</td>\n",
       "<td>0.0840336</td>\n",
       "<td>10 / 119</td></tr>\n",
       "<tr><td>0.0</td>\n",
       "<td>0.0</td>\n",
       "<td>2.0</td>\n",
       "<td>354.0</td>\n",
       "<td>1.0</td>\n",
       "<td>0.0084034</td>\n",
       "<td>3 / 357</td></tr>\n",
       "<tr><td>0.0</td>\n",
       "<td>0.0</td>\n",
       "<td>0.0</td>\n",
       "<td>1.0</td>\n",
       "<td>112.0</td>\n",
       "<td>0.0088496</td>\n",
       "<td>1 / 113</td></tr>\n",
       "<tr><td>81.0</td>\n",
       "<td>173.0</td>\n",
       "<td>112.0</td>\n",
       "<td>366.0</td>\n",
       "<td>113.0</td>\n",
       "<td>0.0189349</td>\n",
       "<td>16 / 845</td></tr></table></div>"
      ],
      "text/plain": [
       "CH    CU    FC    FF    SI    Error       Rate\n",
       "----  ----  ----  ----  ----  ----------  --------\n",
       "81    0     1     1     0     0.0240964   2 / 83\n",
       "0     173   0     0     0     0           0 / 173\n",
       "0     0     109   10    0     0.0840336   10 / 119\n",
       "0     0     2     354   1     0.00840336  3 / 357\n",
       "0     0     0     1     112   0.00884956  1 / 113\n",
       "81    173   112   366   113   0.0189349   16 / 845"
      ]
     },
     "metadata": {},
     "output_type": "display_data"
    },
    {
     "name": "stdout",
     "output_type": "stream",
     "text": [
      "\n",
      "Confusion Matrix: Row labels: Actual class; Column labels: Predicted class\n",
      "\n"
     ]
    },
    {
     "data": {
      "text/html": [
       "<div style=\"overflow:auto\"><table style=\"width:50%\"><tr><td><b>CH</b></td>\n",
       "<td><b>CU</b></td>\n",
       "<td><b>FC</b></td>\n",
       "<td><b>FF</b></td>\n",
       "<td><b>SI</b></td>\n",
       "<td><b>Error</b></td>\n",
       "<td><b>Rate</b></td></tr>\n",
       "<tr><td>82.0</td>\n",
       "<td>0.0</td>\n",
       "<td>1.0</td>\n",
       "<td>0.0</td>\n",
       "<td>0.0</td>\n",
       "<td>0.0120482</td>\n",
       "<td>1 / 83</td></tr>\n",
       "<tr><td>0.0</td>\n",
       "<td>173.0</td>\n",
       "<td>0.0</td>\n",
       "<td>0.0</td>\n",
       "<td>0.0</td>\n",
       "<td>0.0</td>\n",
       "<td>0 / 173</td></tr>\n",
       "<tr><td>0.0</td>\n",
       "<td>0.0</td>\n",
       "<td>112.0</td>\n",
       "<td>7.0</td>\n",
       "<td>0.0</td>\n",
       "<td>0.0588235</td>\n",
       "<td>7 / 119</td></tr>\n",
       "<tr><td>0.0</td>\n",
       "<td>0.0</td>\n",
       "<td>5.0</td>\n",
       "<td>351.0</td>\n",
       "<td>1.0</td>\n",
       "<td>0.0168067</td>\n",
       "<td>6 / 357</td></tr>\n",
       "<tr><td>0.0</td>\n",
       "<td>0.0</td>\n",
       "<td>0.0</td>\n",
       "<td>3.0</td>\n",
       "<td>110.0</td>\n",
       "<td>0.0265487</td>\n",
       "<td>3 / 113</td></tr>\n",
       "<tr><td>82.0</td>\n",
       "<td>173.0</td>\n",
       "<td>118.0</td>\n",
       "<td>361.0</td>\n",
       "<td>111.0</td>\n",
       "<td>0.0201183</td>\n",
       "<td>17 / 845</td></tr></table></div>"
      ],
      "text/plain": [
       "CH    CU    FC    FF    SI    Error      Rate\n",
       "----  ----  ----  ----  ----  ---------  --------\n",
       "82    0     1     0     0     0.0120482  1 / 83\n",
       "0     173   0     0     0     0          0 / 173\n",
       "0     0     112   7     0     0.0588235  7 / 119\n",
       "0     0     5     351   1     0.0168067  6 / 357\n",
       "0     0     0     3     110   0.0265487  3 / 113\n",
       "82    173   118   361   111   0.0201183  17 / 845"
      ]
     },
     "metadata": {},
     "output_type": "display_data"
    },
    {
     "name": "stdout",
     "output_type": "stream",
     "text": [
      "\n",
      "Confusion Matrix: Row labels: Actual class; Column labels: Predicted class\n",
      "\n"
     ]
    },
    {
     "data": {
      "text/html": [
       "<div style=\"overflow:auto\"><table style=\"width:50%\"><tr><td><b>CH</b></td>\n",
       "<td><b>CU</b></td>\n",
       "<td><b>FC</b></td>\n",
       "<td><b>FF</b></td>\n",
       "<td><b>SI</b></td>\n",
       "<td><b>Error</b></td>\n",
       "<td><b>Rate</b></td></tr>\n",
       "<tr><td>81.0</td>\n",
       "<td>0.0</td>\n",
       "<td>2.0</td>\n",
       "<td>0.0</td>\n",
       "<td>0.0</td>\n",
       "<td>0.0240964</td>\n",
       "<td>2 / 83</td></tr>\n",
       "<tr><td>0.0</td>\n",
       "<td>173.0</td>\n",
       "<td>0.0</td>\n",
       "<td>0.0</td>\n",
       "<td>0.0</td>\n",
       "<td>0.0</td>\n",
       "<td>0 / 173</td></tr>\n",
       "<tr><td>0.0</td>\n",
       "<td>0.0</td>\n",
       "<td>110.0</td>\n",
       "<td>9.0</td>\n",
       "<td>0.0</td>\n",
       "<td>0.0756303</td>\n",
       "<td>9 / 119</td></tr>\n",
       "<tr><td>0.0</td>\n",
       "<td>0.0</td>\n",
       "<td>4.0</td>\n",
       "<td>352.0</td>\n",
       "<td>1.0</td>\n",
       "<td>0.0140056</td>\n",
       "<td>5 / 357</td></tr>\n",
       "<tr><td>0.0</td>\n",
       "<td>0.0</td>\n",
       "<td>0.0</td>\n",
       "<td>6.0</td>\n",
       "<td>107.0</td>\n",
       "<td>0.0530973</td>\n",
       "<td>6 / 113</td></tr>\n",
       "<tr><td>81.0</td>\n",
       "<td>173.0</td>\n",
       "<td>116.0</td>\n",
       "<td>367.0</td>\n",
       "<td>108.0</td>\n",
       "<td>0.0260355</td>\n",
       "<td>22 / 845</td></tr></table></div>"
      ],
      "text/plain": [
       "CH    CU    FC    FF    SI    Error      Rate\n",
       "----  ----  ----  ----  ----  ---------  --------\n",
       "81    0     2     0     0     0.0240964  2 / 83\n",
       "0     173   0     0     0     0          0 / 173\n",
       "0     0     110   9     0     0.0756303  9 / 119\n",
       "0     0     4     352   1     0.0140056  5 / 357\n",
       "0     0     0     6     107   0.0530973  6 / 113\n",
       "81    173   116   367   108   0.0260355  22 / 845"
      ]
     },
     "metadata": {},
     "output_type": "display_data"
    },
    {
     "name": "stdout",
     "output_type": "stream",
     "text": [
      "\n",
      "Confusion Matrix: Row labels: Actual class; Column labels: Predicted class\n",
      "\n"
     ]
    },
    {
     "data": {
      "text/html": [
       "<div style=\"overflow:auto\"><table style=\"width:50%\"><tr><td><b>CH</b></td>\n",
       "<td><b>CU</b></td>\n",
       "<td><b>FC</b></td>\n",
       "<td><b>FF</b></td>\n",
       "<td><b>SI</b></td>\n",
       "<td><b>Error</b></td>\n",
       "<td><b>Rate</b></td></tr>\n",
       "<tr><td>83.0</td>\n",
       "<td>0.0</td>\n",
       "<td>0.0</td>\n",
       "<td>0.0</td>\n",
       "<td>0.0</td>\n",
       "<td>0.0</td>\n",
       "<td>0 / 83</td></tr>\n",
       "<tr><td>0.0</td>\n",
       "<td>173.0</td>\n",
       "<td>0.0</td>\n",
       "<td>0.0</td>\n",
       "<td>0.0</td>\n",
       "<td>0.0</td>\n",
       "<td>0 / 173</td></tr>\n",
       "<tr><td>0.0</td>\n",
       "<td>0.0</td>\n",
       "<td>113.0</td>\n",
       "<td>6.0</td>\n",
       "<td>0.0</td>\n",
       "<td>0.0504202</td>\n",
       "<td>6 / 119</td></tr>\n",
       "<tr><td>0.0</td>\n",
       "<td>0.0</td>\n",
       "<td>6.0</td>\n",
       "<td>350.0</td>\n",
       "<td>1.0</td>\n",
       "<td>0.0196078</td>\n",
       "<td>7 / 357</td></tr>\n",
       "<tr><td>0.0</td>\n",
       "<td>0.0</td>\n",
       "<td>0.0</td>\n",
       "<td>3.0</td>\n",
       "<td>110.0</td>\n",
       "<td>0.0265487</td>\n",
       "<td>3 / 113</td></tr>\n",
       "<tr><td>83.0</td>\n",
       "<td>173.0</td>\n",
       "<td>119.0</td>\n",
       "<td>359.0</td>\n",
       "<td>111.0</td>\n",
       "<td>0.0189349</td>\n",
       "<td>16 / 845</td></tr></table></div>"
      ],
      "text/plain": [
       "CH    CU    FC    FF    SI    Error      Rate\n",
       "----  ----  ----  ----  ----  ---------  --------\n",
       "83    0     0     0     0     0          0 / 83\n",
       "0     173   0     0     0     0          0 / 173\n",
       "0     0     113   6     0     0.0504202  6 / 119\n",
       "0     0     6     350   1     0.0196078  7 / 357\n",
       "0     0     0     3     110   0.0265487  3 / 113\n",
       "83    173   119   359   111   0.0189349  16 / 845"
      ]
     },
     "metadata": {},
     "output_type": "display_data"
    },
    {
     "name": "stdout",
     "output_type": "stream",
     "text": [
      "\n",
      "Confusion Matrix: Row labels: Actual class; Column labels: Predicted class\n",
      "\n"
     ]
    },
    {
     "data": {
      "text/html": [
       "<div style=\"overflow:auto\"><table style=\"width:50%\"><tr><td><b>CH</b></td>\n",
       "<td><b>CU</b></td>\n",
       "<td><b>FC</b></td>\n",
       "<td><b>FF</b></td>\n",
       "<td><b>SI</b></td>\n",
       "<td><b>Error</b></td>\n",
       "<td><b>Rate</b></td></tr>\n",
       "<tr><td>0.0</td>\n",
       "<td>0.0</td>\n",
       "<td>0.0</td>\n",
       "<td>83.0</td>\n",
       "<td>0.0</td>\n",
       "<td>1.0</td>\n",
       "<td>83 / 83</td></tr>\n",
       "<tr><td>0.0</td>\n",
       "<td>0.0</td>\n",
       "<td>0.0</td>\n",
       "<td>173.0</td>\n",
       "<td>0.0</td>\n",
       "<td>1.0</td>\n",
       "<td>173 / 173</td></tr>\n",
       "<tr><td>0.0</td>\n",
       "<td>0.0</td>\n",
       "<td>0.0</td>\n",
       "<td>119.0</td>\n",
       "<td>0.0</td>\n",
       "<td>1.0</td>\n",
       "<td>119 / 119</td></tr>\n",
       "<tr><td>0.0</td>\n",
       "<td>0.0</td>\n",
       "<td>0.0</td>\n",
       "<td>357.0</td>\n",
       "<td>0.0</td>\n",
       "<td>0.0</td>\n",
       "<td>0 / 357</td></tr>\n",
       "<tr><td>0.0</td>\n",
       "<td>0.0</td>\n",
       "<td>0.0</td>\n",
       "<td>113.0</td>\n",
       "<td>0.0</td>\n",
       "<td>1.0</td>\n",
       "<td>113 / 113</td></tr>\n",
       "<tr><td>0.0</td>\n",
       "<td>0.0</td>\n",
       "<td>0.0</td>\n",
       "<td>845.0</td>\n",
       "<td>0.0</td>\n",
       "<td>0.5775148</td>\n",
       "<td>488 / 845</td></tr></table></div>"
      ],
      "text/plain": [
       "CH    CU    FC    FF    SI    Error     Rate\n",
       "----  ----  ----  ----  ----  --------  ---------\n",
       "0     0     0     83    0     1         83 / 83\n",
       "0     0     0     173   0     1         173 / 173\n",
       "0     0     0     119   0     1         119 / 119\n",
       "0     0     0     357   0     0         0 / 357\n",
       "0     0     0     113   0     1         113 / 113\n",
       "0     0     0     845   0     0.577515  488 / 845"
      ]
     },
     "metadata": {},
     "output_type": "display_data"
    },
    {
     "name": "stdout",
     "output_type": "stream",
     "text": [
      "\n"
     ]
    }
   ],
   "source": [
    "print(Net_1.confusion_matrix(test))\n",
    "print(Net_2.confusion_matrix(test))\n",
    "print(Net_3.confusion_matrix(test))\n",
    "print(Net_4.confusion_matrix(test))\n",
    "print(Net_5.confusion_matrix(test))\n"
   ]
  },
  {
   "cell_type": "code",
   "execution_count": 29,
   "metadata": {},
   "outputs": [
    {
     "name": "stdout",
     "output_type": "stream",
     "text": [
      "Confusion Matrix: Row labels: Actual class; Column labels: Predicted class\n",
      "\n"
     ]
    },
    {
     "data": {
      "text/html": [
       "<div style=\"overflow:auto\"><table style=\"width:50%\"><tr><td><b>CH</b></td>\n",
       "<td><b>CU</b></td>\n",
       "<td><b>FC</b></td>\n",
       "<td><b>FF</b></td>\n",
       "<td><b>SI</b></td>\n",
       "<td><b>Error</b></td>\n",
       "<td><b>Rate</b></td></tr>\n",
       "<tr><td>83.0</td>\n",
       "<td>0.0</td>\n",
       "<td>0.0</td>\n",
       "<td>0.0</td>\n",
       "<td>0.0</td>\n",
       "<td>0.0</td>\n",
       "<td>0 / 83</td></tr>\n",
       "<tr><td>0.0</td>\n",
       "<td>173.0</td>\n",
       "<td>0.0</td>\n",
       "<td>0.0</td>\n",
       "<td>0.0</td>\n",
       "<td>0.0</td>\n",
       "<td>0 / 173</td></tr>\n",
       "<tr><td>0.0</td>\n",
       "<td>0.0</td>\n",
       "<td>112.0</td>\n",
       "<td>7.0</td>\n",
       "<td>0.0</td>\n",
       "<td>0.0588235</td>\n",
       "<td>7 / 119</td></tr>\n",
       "<tr><td>0.0</td>\n",
       "<td>0.0</td>\n",
       "<td>6.0</td>\n",
       "<td>350.0</td>\n",
       "<td>1.0</td>\n",
       "<td>0.0196078</td>\n",
       "<td>7 / 357</td></tr>\n",
       "<tr><td>0.0</td>\n",
       "<td>0.0</td>\n",
       "<td>0.0</td>\n",
       "<td>1.0</td>\n",
       "<td>112.0</td>\n",
       "<td>0.0088496</td>\n",
       "<td>1 / 113</td></tr>\n",
       "<tr><td>83.0</td>\n",
       "<td>173.0</td>\n",
       "<td>118.0</td>\n",
       "<td>358.0</td>\n",
       "<td>113.0</td>\n",
       "<td>0.0177515</td>\n",
       "<td>15 / 845</td></tr></table></div>"
      ],
      "text/plain": [
       "CH    CU    FC    FF    SI    Error       Rate\n",
       "----  ----  ----  ----  ----  ----------  --------\n",
       "83    0     0     0     0     0           0 / 83\n",
       "0     173   0     0     0     0           0 / 173\n",
       "0     0     112   7     0     0.0588235   7 / 119\n",
       "0     0     6     350   1     0.0196078   7 / 357\n",
       "0     0     0     1     112   0.00884956  1 / 113\n",
       "83    173   118   358   113   0.0177515   15 / 845"
      ]
     },
     "metadata": {},
     "output_type": "display_data"
    },
    {
     "data": {
      "text/plain": []
     },
     "execution_count": 29,
     "metadata": {},
     "output_type": "execute_result"
    }
   ],
   "source": [
    "Net_6.confusion_matrix(test)"
   ]
  },
  {
   "cell_type": "code",
   "execution_count": 99,
   "metadata": {},
   "outputs": [],
   "source": [
    "scores1 = Net_1.score_history()\n",
    "scores2 = Net_2.score_history()\n",
    "scores3 = Net_3.score_history()\n",
    "scores4 = Net_4.score_history()\n",
    "scores5 = Net_5.score_history()\n",
    "scores6 = Net_6.score_history()"
   ]
  },
  {
   "cell_type": "code",
   "execution_count": 104,
   "metadata": {},
   "outputs": [
    {
     "data": {
      "text/plain": [
       "<matplotlib.text.Text at 0x7fea5d1dba90>"
      ]
     },
     "execution_count": 104,
     "metadata": {},
     "output_type": "execute_result"
    },
    {
     "data": {
      "image/png": "[encoded data removed]",
      "text/plain": [
       "<matplotlib.figure.Figure at 0x7fea5d1872d0>"
      ]
     },
     "metadata": {},
     "output_type": "display_data"
    }
   ],
   "source": [
    "tmp = plt.rc('font', size=16)\n",
    "\n",
    "plt.figure(figsize=(10,7))\n",
    "#plt.plot(scores1.epochs,scores1.training_logloss,'-o', color='r')\n",
    "#plt.plot(scores1.epochs,scores1.validation_logloss,'--s', color='r')\n",
    "\n",
    "plt.plot(scores2.epochs,scores2.training_logloss,'-o', color='g', label='512x512 (training)')\n",
    "plt.plot(scores2.epochs,scores2.validation_logloss,'--s', color='g', label='512x512 (validation)')\n",
    "\n",
    "plt.plot(scores3.epochs,scores3.training_logloss,'-o', color='r', label='64x128x64 (training)')\n",
    "plt.plot(scores3.epochs,scores3.validation_logloss,'--s', color='r', label='64x128x64 (validation)')\n",
    "\n",
    "#plt.plot(scores4.epochs,scores4.training_logloss,'-s', color='b')\n",
    "#plt.plot(scores4.epochs,scores4.validation_logloss,'-s', color='r')\n",
    "\n",
    "plt.plot(scores6.epochs,scores6.training_logloss,'-o', color='b', label='512x512x32x8 (training)')\n",
    "plt.plot(scores6.epochs,scores6.validation_logloss,'--s', color='b', label='512x512x32x8 (validation)')\n",
    "\n",
    "plt.ylim(0,0.2)\n",
    "plt.legend()\n",
    "\n",
    "plt.xlabel('Epochs')\n",
    "plt.ylabel('Log Loss')\n"
   ]
  },
  {
   "cell_type": "code",
   "execution_count": null,
   "metadata": {},
   "outputs": [],
   "source": []
  },
  {
   "cell_type": "code",
   "execution_count": 80,
   "metadata": {},
   "outputs": [],
   "source": [
    "gbm1 = H2OGradientBoostingEstimator(ntrees=5000, max_depth=5, learn_rate=0.001, sample_rate=0.7, col_sample_rate=0.8,\n",
    "                                    score_tree_interval=100, stopping_rounds=0)\n"
   ]
  },
  {
   "cell_type": "code",
   "execution_count": 81,
   "metadata": {},
   "outputs": [
    {
     "name": "stdout",
     "output_type": "stream",
     "text": [
      "gbm Model Build progress: |███████████████████████████████████████████████| 100%\n"
     ]
    }
   ],
   "source": [
    "gbm1.train(x=features, y='pitch_type',training_frame=train, validation_frame=valid)"
   ]
  },
  {
   "cell_type": "code",
   "execution_count": 82,
   "metadata": {},
   "outputs": [
    {
     "name": "stdout",
     "output_type": "stream",
     "text": [
      "Confusion Matrix: Row labels: Actual class; Column labels: Predicted class\n",
      "\n"
     ]
    },
    {
     "data": {
      "text/html": [
       "<div style=\"overflow:auto\"><table style=\"width:50%\"><tr><td><b>CH</b></td>\n",
       "<td><b>CU</b></td>\n",
       "<td><b>FC</b></td>\n",
       "<td><b>FF</b></td>\n",
       "<td><b>SI</b></td>\n",
       "<td><b>Error</b></td>\n",
       "<td><b>Rate</b></td></tr>\n",
       "<tr><td>82.0</td>\n",
       "<td>0.0</td>\n",
       "<td>1.0</td>\n",
       "<td>0.0</td>\n",
       "<td>0.0</td>\n",
       "<td>0.0120482</td>\n",
       "<td>1 / 83</td></tr>\n",
       "<tr><td>0.0</td>\n",
       "<td>173.0</td>\n",
       "<td>0.0</td>\n",
       "<td>0.0</td>\n",
       "<td>0.0</td>\n",
       "<td>0.0</td>\n",
       "<td>0 / 173</td></tr>\n",
       "<tr><td>0.0</td>\n",
       "<td>0.0</td>\n",
       "<td>112.0</td>\n",
       "<td>7.0</td>\n",
       "<td>0.0</td>\n",
       "<td>0.0588235</td>\n",
       "<td>7 / 119</td></tr>\n",
       "<tr><td>0.0</td>\n",
       "<td>0.0</td>\n",
       "<td>3.0</td>\n",
       "<td>353.0</td>\n",
       "<td>1.0</td>\n",
       "<td>0.0112045</td>\n",
       "<td>4 / 357</td></tr>\n",
       "<tr><td>0.0</td>\n",
       "<td>0.0</td>\n",
       "<td>0.0</td>\n",
       "<td>0.0</td>\n",
       "<td>113.0</td>\n",
       "<td>0.0</td>\n",
       "<td>0 / 113</td></tr>\n",
       "<tr><td>82.0</td>\n",
       "<td>173.0</td>\n",
       "<td>116.0</td>\n",
       "<td>360.0</td>\n",
       "<td>114.0</td>\n",
       "<td>0.0142012</td>\n",
       "<td>12 / 845</td></tr></table></div>"
      ],
      "text/plain": [
       "CH    CU    FC    FF    SI    Error      Rate\n",
       "----  ----  ----  ----  ----  ---------  --------\n",
       "82    0     1     0     0     0.0120482  1 / 83\n",
       "0     173   0     0     0     0          0 / 173\n",
       "0     0     112   7     0     0.0588235  7 / 119\n",
       "0     0     3     353   1     0.0112045  4 / 357\n",
       "0     0     0     0     113   0          0 / 113\n",
       "82    173   116   360   114   0.0142012  12 / 845"
      ]
     },
     "metadata": {},
     "output_type": "display_data"
    },
    {
     "data": {
      "text/plain": []
     },
     "execution_count": 82,
     "metadata": {},
     "output_type": "execute_result"
    }
   ],
   "source": [
    "gbm1.confusion_matrix(test)"
   ]
  },
  {
   "cell_type": "code",
   "execution_count": 78,
   "metadata": {},
   "outputs": [],
   "source": [
    "scores1 = gbm1.score_history()\n"
   ]
  },
  {
   "cell_type": "code",
   "execution_count": 90,
   "metadata": {},
   "outputs": [
    {
     "data": {
      "text/plain": [
       "[<matplotlib.lines.Line2D at 0x7fea5ce495d0>]"
      ]
     },
     "execution_count": 90,
     "metadata": {},
     "output_type": "execute_result"
    },
    {
     "data": {
      "image/png": "[encoded data removed]",
      "text/plain": [
       "<matplotlib.figure.Figure at 0x7fea5cf00d50>"
      ]
     },
     "metadata": {},
     "output_type": "display_data"
    }
   ],
   "source": [
    "tmp = plt.rc('font', size=16)\n",
    "\n",
    "plt.figure(figsize=(10,7))\n",
    "#plt.plot(scores1.epochs,scores1.training_logloss,'--o', color='b')\n",
    "#plt.plot(scores1.epochs,scores1.validation_logloss,'--o', color='r')\n",
    "\n",
    "plt.plot(scores1.number_of_trees,scores1.training_logloss,'-o', color='r')\n",
    "plt.plot(scores1.number_of_trees,scores1.validation_logloss,'--s', color='b')\n"
   ]
  },
  {
   "cell_type": "code",
   "execution_count": 85,
   "metadata": {},
   "outputs": [
    {
     "name": "stdout",
     "output_type": "stream",
     "text": [
      "gbm Grid Build progress: |███████████████ (cancelled)\n"
     ]
    },
    {
     "ename": "H2OJobCancelled",
     "evalue": "Job<$03017f00000132d4ffffffff$_905e82ea42ff0cb458c0f8b6d7eb4581> was cancelled by the user.",
     "output_type": "error",
     "traceback": [
      "\u001b[0;31m---------------------------------------------------------------------------\u001b[0m",
      "\u001b[0;31mH2OJobCancelled\u001b[0m                           Traceback (most recent call last)",
      "\u001b[0;32m<ipython-input-85-529fd840d660>\u001b[0m in \u001b[0;36m<module>\u001b[0;34m()\u001b[0m\n\u001b[1;32m     15\u001b[0m                 \u001b[0mvalidation_frame\u001b[0m\u001b[0;34m=\u001b[0m\u001b[0mvalid\u001b[0m\u001b[0;34m,\u001b[0m\u001b[0;34m\u001b[0m\u001b[0m\n\u001b[1;32m     16\u001b[0m                 \u001b[0mntrees\u001b[0m\u001b[0;34m=\u001b[0m\u001b[0;36m5000\u001b[0m\u001b[0;34m,\u001b[0m\u001b[0;34m\u001b[0m\u001b[0m\n\u001b[0;32m---> 17\u001b[0;31m                 \u001b[0mscore_tree_interval\u001b[0m\u001b[0;34m=\u001b[0m\u001b[0;36m100\u001b[0m\u001b[0;34m,\u001b[0m \u001b[0mstopping_rounds\u001b[0m\u001b[0;34m=\u001b[0m\u001b[0;36m0\u001b[0m\u001b[0;34m\u001b[0m\u001b[0m\n\u001b[0m\u001b[1;32m     18\u001b[0m                )\n",
      "\u001b[0;32m/usr/local/lib/python2.7/dist-packages/h2o/grid/grid_search.pyc\u001b[0m in \u001b[0;36mtrain\u001b[0;34m(self, x, y, training_frame, offset_column, fold_column, weights_column, validation_frame, **params)\u001b[0m\n\u001b[1;32m    206\u001b[0m         \u001b[0mx\u001b[0m \u001b[0;34m=\u001b[0m \u001b[0mlist\u001b[0m\u001b[0;34m(\u001b[0m\u001b[0mxset\u001b[0m\u001b[0;34m)\u001b[0m\u001b[0;34m\u001b[0m\u001b[0m\n\u001b[1;32m    207\u001b[0m         \u001b[0mparms\u001b[0m\u001b[0;34m[\u001b[0m\u001b[0;34m\"x\"\u001b[0m\u001b[0;34m]\u001b[0m \u001b[0;34m=\u001b[0m \u001b[0mx\u001b[0m\u001b[0;34m\u001b[0m\u001b[0m\n\u001b[0;32m--> 208\u001b[0;31m         \u001b[0mself\u001b[0m\u001b[0;34m.\u001b[0m\u001b[0mbuild_model\u001b[0m\u001b[0;34m(\u001b[0m\u001b[0mparms\u001b[0m\u001b[0;34m)\u001b[0m\u001b[0;34m\u001b[0m\u001b[0m\n\u001b[0m\u001b[1;32m    209\u001b[0m \u001b[0;34m\u001b[0m\u001b[0m\n\u001b[1;32m    210\u001b[0m \u001b[0;34m\u001b[0m\u001b[0m\n",
      "\u001b[0;32m/usr/local/lib/python2.7/dist-packages/h2o/grid/grid_search.pyc\u001b[0m in \u001b[0;36mbuild_model\u001b[0;34m(self, algo_params)\u001b[0m\n\u001b[1;32m    221\u001b[0m         \u001b[0;32mif\u001b[0m \u001b[0mis_auto_encoder\u001b[0m \u001b[0;32mand\u001b[0m \u001b[0my\u001b[0m \u001b[0;32mis\u001b[0m \u001b[0;32mnot\u001b[0m \u001b[0mNone\u001b[0m\u001b[0;34m:\u001b[0m \u001b[0;32mraise\u001b[0m \u001b[0mValueError\u001b[0m\u001b[0;34m(\u001b[0m\u001b[0;34m\"y should not be specified for autoencoder.\"\u001b[0m\u001b[0;34m)\u001b[0m\u001b[0;34m\u001b[0m\u001b[0m\n\u001b[1;32m    222\u001b[0m         \u001b[0;32mif\u001b[0m \u001b[0;32mnot\u001b[0m \u001b[0mis_unsupervised\u001b[0m \u001b[0;32mand\u001b[0m \u001b[0my\u001b[0m \u001b[0;32mis\u001b[0m \u001b[0mNone\u001b[0m\u001b[0;34m:\u001b[0m \u001b[0;32mraise\u001b[0m \u001b[0mValueError\u001b[0m\u001b[0;34m(\u001b[0m\u001b[0;34m\"Missing response\"\u001b[0m\u001b[0;34m)\u001b[0m\u001b[0;34m\u001b[0m\u001b[0m\n\u001b[0;32m--> 223\u001b[0;31m         \u001b[0mself\u001b[0m\u001b[0;34m.\u001b[0m\u001b[0m_model_build\u001b[0m\u001b[0;34m(\u001b[0m\u001b[0mx\u001b[0m\u001b[0;34m,\u001b[0m \u001b[0my\u001b[0m\u001b[0;34m,\u001b[0m \u001b[0mtraining_frame\u001b[0m\u001b[0;34m,\u001b[0m \u001b[0mvalidation_frame\u001b[0m\u001b[0;34m,\u001b[0m \u001b[0malgo_params\u001b[0m\u001b[0;34m)\u001b[0m\u001b[0;34m\u001b[0m\u001b[0m\n\u001b[0m\u001b[1;32m    224\u001b[0m \u001b[0;34m\u001b[0m\u001b[0m\n\u001b[1;32m    225\u001b[0m \u001b[0;34m\u001b[0m\u001b[0m\n",
      "\u001b[0;32m/usr/local/lib/python2.7/dist-packages/h2o/grid/grid_search.pyc\u001b[0m in \u001b[0;36m_model_build\u001b[0;34m(self, x, y, tframe, vframe, kwargs)\u001b[0m\n\u001b[1;32m    249\u001b[0m             \u001b[0;32mreturn\u001b[0m\u001b[0;34m\u001b[0m\u001b[0m\n\u001b[1;32m    250\u001b[0m \u001b[0;34m\u001b[0m\u001b[0m\n\u001b[0;32m--> 251\u001b[0;31m         \u001b[0mgrid\u001b[0m\u001b[0;34m.\u001b[0m\u001b[0mpoll\u001b[0m\u001b[0;34m(\u001b[0m\u001b[0;34m)\u001b[0m\u001b[0;34m\u001b[0m\u001b[0m\n\u001b[0m\u001b[1;32m    252\u001b[0m \u001b[0;34m\u001b[0m\u001b[0m\n\u001b[1;32m    253\u001b[0m         \u001b[0mgrid_json\u001b[0m \u001b[0;34m=\u001b[0m \u001b[0mh2o\u001b[0m\u001b[0;34m.\u001b[0m\u001b[0mapi\u001b[0m\u001b[0;34m(\u001b[0m\u001b[0;34m\"GET /99/Grids/%s\"\u001b[0m \u001b[0;34m%\u001b[0m \u001b[0;34m(\u001b[0m\u001b[0mgrid\u001b[0m\u001b[0;34m.\u001b[0m\u001b[0mdest_key\u001b[0m\u001b[0;34m)\u001b[0m\u001b[0;34m)\u001b[0m\u001b[0;34m\u001b[0m\u001b[0m\n",
      "\u001b[0;32m/usr/local/lib/python2.7/dist-packages/h2o/job.pyc\u001b[0m in \u001b[0;36mpoll\u001b[0;34m(self, verbose_model_scoring_history)\u001b[0m\n\u001b[1;32m     71\u001b[0m         \u001b[0;31m# check if failed... and politely print relevant message\u001b[0m\u001b[0;34m\u001b[0m\u001b[0;34m\u001b[0m\u001b[0m\n\u001b[1;32m     72\u001b[0m         \u001b[0;32mif\u001b[0m \u001b[0mself\u001b[0m\u001b[0;34m.\u001b[0m\u001b[0mstatus\u001b[0m \u001b[0;34m==\u001b[0m \u001b[0;34m\"CANCELLED\"\u001b[0m\u001b[0;34m:\u001b[0m\u001b[0;34m\u001b[0m\u001b[0m\n\u001b[0;32m---> 73\u001b[0;31m             \u001b[0;32mraise\u001b[0m \u001b[0mH2OJobCancelled\u001b[0m\u001b[0;34m(\u001b[0m\u001b[0;34m\"Job<%s> was cancelled by the user.\"\u001b[0m \u001b[0;34m%\u001b[0m \u001b[0mself\u001b[0m\u001b[0;34m.\u001b[0m\u001b[0mjob_key\u001b[0m\u001b[0;34m)\u001b[0m\u001b[0;34m\u001b[0m\u001b[0m\n\u001b[0m\u001b[1;32m     74\u001b[0m         \u001b[0;32mif\u001b[0m \u001b[0mself\u001b[0m\u001b[0;34m.\u001b[0m\u001b[0mstatus\u001b[0m \u001b[0;34m==\u001b[0m \u001b[0;34m\"FAILED\"\u001b[0m\u001b[0;34m:\u001b[0m\u001b[0;34m\u001b[0m\u001b[0m\n\u001b[1;32m     75\u001b[0m             \u001b[0;32mif\u001b[0m \u001b[0;34m(\u001b[0m\u001b[0misinstance\u001b[0m\u001b[0;34m(\u001b[0m\u001b[0mself\u001b[0m\u001b[0;34m.\u001b[0m\u001b[0mjob\u001b[0m\u001b[0;34m,\u001b[0m \u001b[0mdict\u001b[0m\u001b[0;34m)\u001b[0m\u001b[0;34m)\u001b[0m \u001b[0;32mand\u001b[0m \u001b[0;34m(\u001b[0m\u001b[0;34m\"stacktrace\"\u001b[0m \u001b[0;32min\u001b[0m \u001b[0mlist\u001b[0m\u001b[0;34m(\u001b[0m\u001b[0mself\u001b[0m\u001b[0;34m.\u001b[0m\u001b[0mjob\u001b[0m\u001b[0;34m)\u001b[0m\u001b[0;34m)\u001b[0m\u001b[0;34m:\u001b[0m\u001b[0;34m\u001b[0m\u001b[0m\n",
      "\u001b[0;31mH2OJobCancelled\u001b[0m: Job<$03017f00000132d4ffffffff$_905e82ea42ff0cb458c0f8b6d7eb4581> was cancelled by the user."
     ]
    }
   ],
   "source": [
    "# GBM hyperparameters\n",
    "gbm_params1 = {'learn_rate': [0.001, 0.005],\n",
    "                'max_depth': [3, 5, 9, 15],\n",
    "                'sample_rate': [0.8, 1.0],\n",
    "                'col_sample_rate': [0.2, 0.5, 1.0], \n",
    "              }\n",
    "\n",
    "# Train and validate a cartesian grid of GBMs\n",
    "gbm_grid1 = H2OGridSearch(model=H2OGradientBoostingEstimator,\n",
    "                          grid_id='gbm_grid1',\n",
    "                          hyper_params=gbm_params1)\n",
    "gbm_grid1.train(x=features, y='pitch_type',\n",
    "                training_frame=train,\n",
    "                validation_frame=valid,\n",
    "                ntrees=5000,\n",
    "                score_tree_interval=100, stopping_rounds=0\n",
    "               )\n"
   ]
  },
  {
   "cell_type": "code",
   "execution_count": 88,
   "metadata": {},
   "outputs": [],
   "source": [
    "grid7 = h2o.get_model('gbm_grid1_model_7')"
   ]
  },
  {
   "cell_type": "code",
   "execution_count": 89,
   "metadata": {},
   "outputs": [],
   "source": [
    "scores1 = grid7.score_history()\n"
   ]
  },
  {
   "cell_type": "code",
   "execution_count": 98,
   "metadata": {},
   "outputs": [
    {
     "data": {
      "text/plain": [
       "{u'__meta': {u'schema_name': u'ModelParameterSchemaV3',\n",
       "  u'schema_type': u'Iced',\n",
       "  u'schema_version': 3},\n",
       " u'actual_value': 5,\n",
       " u'default_value': 5,\n",
       " u'gridable': True,\n",
       " u'help': u'Maximum tree depth.',\n",
       " u'is_member_of_frames': [],\n",
       " u'is_mutually_exclusive_with': [],\n",
       " u'label': u'max_depth',\n",
       " u'level': u'critical',\n",
       " u'name': u'max_depth',\n",
       " u'required': False,\n",
       " u'type': u'int',\n",
       " u'values': []}"
      ]
     },
     "execution_count": 98,
     "metadata": {},
     "output_type": "execute_result"
    }
   ],
   "source": [
    "grid7.get_params()['max_depth']"
   ]
  },
  {
   "cell_type": "code",
   "execution_count": null,
   "metadata": {},
   "outputs": [],
   "source": []
  }
 ],
 "metadata": {
  "kernelspec": {
   "display_name": "Python 2",
   "language": "python",
   "name": "python2"
  },
  "language_info": {
   "codemirror_mode": {
    "name": "ipython",
    "version": 2
   },
   "file_extension": ".py",
   "mimetype": "text/x-python",
   "name": "python",
   "nbconvert_exporter": "python",
   "pygments_lexer": "ipython2",
   "version": "2.7.14"
  }
 },
 "nbformat": 4,
 "nbformat_minor": 2
}
